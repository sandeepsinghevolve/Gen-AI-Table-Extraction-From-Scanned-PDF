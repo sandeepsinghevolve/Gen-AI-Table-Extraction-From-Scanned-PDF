{
 "cells": [
  {
   "cell_type": "code",
   "execution_count": 9,
   "id": "9b765725",
   "metadata": {},
   "outputs": [],
   "source": [
    "#import sys\n",
    "#print(sys.executable)\n",
    "#print(sys.version)\n",
    "#print(sys.version_info)\n",
    "#pip install pytesseract\n",
    "#pip install opencv-python-headless\n",
    "#pip install PyMuPDF"
   ]
  },
  {
   "cell_type": "code",
   "execution_count": null,
   "id": "81f1cf5b",
   "metadata": {},
   "outputs": [],
   "source": [
    "pip install pytesseract"
   ]
  },
  {
   "cell_type": "code",
   "execution_count": 21,
   "id": "86496b64",
   "metadata": {},
   "outputs": [],
   "source": [
    "pytesseract.pytesseract.tesseract_cmd = r'C:\\Users\\sandeepkumar.singh\\AppData\\Local\\Programs\\Tesseract-OCR\\tesseract.exe'"
   ]
  },
  {
   "cell_type": "code",
   "execution_count": 22,
   "id": "670bc296",
   "metadata": {},
   "outputs": [
    {
     "name": "stdout",
     "output_type": "stream",
     "text": [
      "Tables extracted and saved to output_286455_tables.xlsx\n"
     ]
    }
   ],
   "source": [
    "import cv2\n",
    "import pytesseract\n",
    "import pandas as pd\n",
    "import fitz\n",
    "\n",
    "# Path to the scanned PDF file\n",
    "pdf_file = r\"C:\\Users\\sandeepkumar.singh\\OneDrive - Sagility\\Desktop\\NLP_Table Extract\\286455 BAYCARE HEALTH SYS HUM.pdf\"\n",
    "\n",
    "# Function to extract text from an image using pytesseract\n",
    "def extract_text_from_image(image_path):\n",
    "    img = cv2.imread(image_path)\n",
    "    \n",
    "    # Rotate the image if needed (you may need to adjust the angle)\n",
    "    rotated_img = cv2.rotate(img, cv2.ROTATE_90_CLOCKWISE)\n",
    "    \n",
    "    # Perform OCR on the rotated image\n",
    "    text = pytesseract.image_to_string(rotated_img)\n",
    "    \n",
    "    return text\n",
    "\n",
    "# Extract text from each page of the PDF\n",
    "pdf_text = []\n",
    "with fitz.open(pdf_file) as pdf_document:\n",
    "    num_pages = len(pdf_document)\n",
    "    for page_number in range(num_pages):\n",
    "        page = pdf_document.load_page(page_number)\n",
    "        image_list = page.get_pixmap()\n",
    "        image_path = f\"page_{page_number}.png\"\n",
    "        image_list.save(image_path, \"png\")\n",
    "        text = extract_text_from_image(image_path)\n",
    "        pdf_text.append(text)\n",
    "\n",
    "# Function to detect and extract tables from text\n",
    "def extract_tables(text):\n",
    "    # You can implement your table extraction logic here.\n",
    "    # For example, using regular expressions or specialized table extraction libraries.\n",
    "    # This part depends on the specific structure of your tables and the OCR quality.\n",
    "    # Below is a simplified example assuming tabular data is separated by lines.\n",
    "    lines = text.split(\"\\n\")\n",
    "    table_data = []\n",
    "    for line in lines:\n",
    "        if line.strip():\n",
    "            table_data.append(line.split())\n",
    "    return table_data\n",
    "\n",
    "# Process the extracted text to find tables\n",
    "all_tables = []\n",
    "for page_text in pdf_text:\n",
    "    tables = extract_tables(page_text)\n",
    "    all_tables.extend(tables)\n",
    "\n",
    "# Convert tables to a DataFrame\n",
    "table_df = pd.DataFrame(all_tables)\n",
    "\n",
    "# Save the table to an Excel workbook\n",
    "excel_file = \"output_286455_tables.xlsx\"\n",
    "table_df.to_excel(excel_file, index=False)\n",
    "\n",
    "print(f\"Tables extracted and saved to {excel_file}\")"
   ]
  },
  {
   "cell_type": "code",
   "execution_count": null,
   "id": "191d24d3",
   "metadata": {},
   "outputs": [],
   "source": []
  }
 ],
 "metadata": {
  "kernelspec": {
   "display_name": "Python 3",
   "language": "python",
   "name": "python3"
  },
  "language_info": {
   "codemirror_mode": {
    "name": "ipython",
    "version": 3
   },
   "file_extension": ".py",
   "mimetype": "text/x-python",
   "name": "python",
   "nbconvert_exporter": "python",
   "pygments_lexer": "ipython3",
   "version": "3.8.8"
  }
 },
 "nbformat": 4,
 "nbformat_minor": 5
}
